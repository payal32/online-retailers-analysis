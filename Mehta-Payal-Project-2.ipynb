{
 "cells": [
  {
   "cell_type": "code",
   "execution_count": 55,
   "id": "4bb9fc11",
   "metadata": {},
   "outputs": [
    {
     "data": {
      "text/html": [
       "<script>\n",
       "    // AUTORUN ALL CELLS ON NOTEBOOK-LOAD!\n",
       "    require(\n",
       "        ['base/js/namespace', 'jquery'], \n",
       "        function(jupyter, $) {\n",
       "            $(jupyter.events).on(\"kernel_ready.Kernel\", function () {\n",
       "                console.log(\"Auto-running all cells-below...\");\n",
       "                jupyter.actions.call('jupyter-notebook:run-all-cells-below');\n",
       "                jupyter.actions.call('jupyter-notebook:save-notebook');\n",
       "            });\n",
       "        }\n",
       "    );\n",
       "</script>\n"
      ],
      "text/plain": [
       "<IPython.core.display.HTML object>"
      ]
     },
     "metadata": {},
     "output_type": "display_data"
    }
   ],
   "source": [
    "%%html\n",
    "<script>\n",
    "    // AUTORUN ALL CELLS ON NOTEBOOK-LOAD!\n",
    "    require(\n",
    "        ['base/js/namespace', 'jquery'], \n",
    "        function(jupyter, $) {\n",
    "            $(jupyter.events).on(\"kernel_ready.Kernel\", function () {\n",
    "                console.log(\"Auto-running all cells-below...\");\n",
    "                jupyter.actions.call('jupyter-notebook:run-all-cells-below');\n",
    "                jupyter.actions.call('jupyter-notebook:save-notebook');\n",
    "            });\n",
    "        }\n",
    "    );\n",
    "</script>"
   ]
  },
  {
   "cell_type": "markdown",
   "id": "41ee8d6b",
   "metadata": {},
   "source": [
    "# Amazon Products EDA\n",
    "\n",
    "Dataset: https://www.kaggle.com/datasets/nguyenngocphung/10000-amazon-products-dataset <br>\n",
    "License: CC0 1.0 Public Domain Dedication <br>\n",
    "This license permits all users of the dataset to freely copy, modify, and distribute their work, even for commercial purposes. There are also no liabilties to the owner of the dataset. <br>\n",
    "The dataset consists of 10,004 rows and 14 columns and its file size is 29mb. <br>\n"
   ]
  },
  {
   "cell_type": "markdown",
   "id": "59e8724b",
   "metadata": {},
   "source": [
    "### Import Required Libraries"
   ]
  },
  {
   "cell_type": "code",
   "execution_count": 1,
   "id": "c25648c9",
   "metadata": {},
   "outputs": [],
   "source": [
    "import pandas as pd\n",
    "import ipywidgets\n",
    "import matplotlib.pyplot as plt\n",
    "%matplotlib inline"
   ]
  },
  {
   "cell_type": "markdown",
   "id": "cc9c7bae",
   "metadata": {},
   "source": [
    "### Load and Preprocess Dataset"
   ]
  },
  {
   "cell_type": "code",
   "execution_count": 2,
   "id": "6aed8a60",
   "metadata": {},
   "outputs": [
    {
     "data": {
      "text/html": [
       "<div>\n",
       "<style scoped>\n",
       "    .dataframe tbody tr th:only-of-type {\n",
       "        vertical-align: middle;\n",
       "    }\n",
       "\n",
       "    .dataframe tbody tr th {\n",
       "        vertical-align: top;\n",
       "    }\n",
       "\n",
       "    .dataframe thead th {\n",
       "        text-align: right;\n",
       "    }\n",
       "</style>\n",
       "<table border=\"1\" class=\"dataframe\">\n",
       "  <thead>\n",
       "    <tr style=\"text-align: right;\">\n",
       "      <th></th>\n",
       "      <th>uniq_id</th>\n",
       "      <th>product_name</th>\n",
       "      <th>manufacturer</th>\n",
       "      <th>price</th>\n",
       "      <th>number_available_in_stock</th>\n",
       "      <th>number_of_reviews</th>\n",
       "      <th>number_of_answered_questions</th>\n",
       "      <th>average_review_rating</th>\n",
       "      <th>amazon_category_and_sub_category</th>\n",
       "      <th>description</th>\n",
       "      <th>product_information</th>\n",
       "      <th>product_description</th>\n",
       "      <th>items_customers_buy_after_viewing_this_item</th>\n",
       "      <th>customer_questions_and_answers</th>\n",
       "    </tr>\n",
       "  </thead>\n",
       "  <tbody>\n",
       "    <tr>\n",
       "      <th>0</th>\n",
       "      <td>eac7efa5dbd3d667f26eb3d3ab504464</td>\n",
       "      <td>Hornby 2014 Catalogue</td>\n",
       "      <td>Hornby</td>\n",
       "      <td>£3.42</td>\n",
       "      <td>5 new</td>\n",
       "      <td>15</td>\n",
       "      <td>1</td>\n",
       "      <td>4.9 out of 5 stars</td>\n",
       "      <td>Hobbies &gt; Model Trains &amp; Railway Sets &gt; Rail V...</td>\n",
       "      <td>Product Description Hornby 2014 Catalogue Box ...</td>\n",
       "      <td>Technical Details Item Weight640 g Product Dim...</td>\n",
       "      <td>Product Description Hornby 2014 Catalogue Box ...</td>\n",
       "      <td>http://www.amazon.co.uk/Hornby-R8150-Catalogue...</td>\n",
       "      <td>Does this catalogue detail all the previous Ho...</td>\n",
       "    </tr>\n",
       "    <tr>\n",
       "      <th>1</th>\n",
       "      <td>b17540ef7e86e461d37f3ae58b7b72ac</td>\n",
       "      <td>FunkyBuys® Large Christmas Holiday Express Fes...</td>\n",
       "      <td>FunkyBuys</td>\n",
       "      <td>£16.99</td>\n",
       "      <td>NaN</td>\n",
       "      <td>2</td>\n",
       "      <td>1</td>\n",
       "      <td>4.5 out of 5 stars</td>\n",
       "      <td>Hobbies &gt; Model Trains &amp; Railway Sets &gt; Rail V...</td>\n",
       "      <td>Size Name:Large FunkyBuys® Large Christmas Hol...</td>\n",
       "      <td>Technical Details Manufacturer recommended age...</td>\n",
       "      <td>Size Name:Large FunkyBuys® Large Christmas Hol...</td>\n",
       "      <td>http://www.amazon.co.uk/Christmas-Holiday-Expr...</td>\n",
       "      <td>can you turn off sounds // hi no you cant turn...</td>\n",
       "    </tr>\n",
       "    <tr>\n",
       "      <th>2</th>\n",
       "      <td>348f344247b0c1a935b1223072ef9d8a</td>\n",
       "      <td>CLASSIC TOY TRAIN SET TRACK CARRIAGES LIGHT EN...</td>\n",
       "      <td>ccf</td>\n",
       "      <td>£9.99</td>\n",
       "      <td>2 new</td>\n",
       "      <td>17</td>\n",
       "      <td>2</td>\n",
       "      <td>3.9 out of 5 stars</td>\n",
       "      <td>Hobbies &gt; Model Trains &amp; Railway Sets &gt; Rail V...</td>\n",
       "      <td>BIG CLASSIC TOY TRAIN SET TRACK CARRIAGE LIGHT...</td>\n",
       "      <td>Technical Details Manufacturer recommended age...</td>\n",
       "      <td>BIG CLASSIC TOY TRAIN SET TRACK CARRIAGE LIGHT...</td>\n",
       "      <td>http://www.amazon.co.uk/Train-With-Tracks-Batt...</td>\n",
       "      <td>What is the gauge of the track // Hi Paul.Trut...</td>\n",
       "    </tr>\n",
       "    <tr>\n",
       "      <th>3</th>\n",
       "      <td>e12b92dbb8eaee78b22965d2a9bbbd9f</td>\n",
       "      <td>HORNBY Coach R4410A BR Hawksworth Corridor 3rd</td>\n",
       "      <td>Hornby</td>\n",
       "      <td>£39.99</td>\n",
       "      <td>NaN</td>\n",
       "      <td>1</td>\n",
       "      <td>2</td>\n",
       "      <td>5.0 out of 5 stars</td>\n",
       "      <td>Hobbies &gt; Model Trains &amp; Railway Sets &gt; Rail V...</td>\n",
       "      <td>Hornby 00 Gauge BR Hawksworth 3rd Class W 2107...</td>\n",
       "      <td>Technical Details Item Weight259 g Product Dim...</td>\n",
       "      <td>Hornby 00 Gauge BR Hawksworth 3rd Class W 2107...</td>\n",
       "      <td>NaN</td>\n",
       "      <td>NaN</td>\n",
       "    </tr>\n",
       "    <tr>\n",
       "      <th>4</th>\n",
       "      <td>e33a9adeed5f36840ccc227db4682a36</td>\n",
       "      <td>Hornby 00 Gauge 0-4-0 Gildenlow Salt Co. Steam...</td>\n",
       "      <td>Hornby</td>\n",
       "      <td>£32.19</td>\n",
       "      <td>NaN</td>\n",
       "      <td>3</td>\n",
       "      <td>2</td>\n",
       "      <td>4.7 out of 5 stars</td>\n",
       "      <td>Hobbies &gt; Model Trains &amp; Railway Sets &gt; Rail V...</td>\n",
       "      <td>Product Description Hornby RailRoad 0-4-0 Gild...</td>\n",
       "      <td>Technical Details Item Weight159 g Product Dim...</td>\n",
       "      <td>Product Description Hornby RailRoad 0-4-0 Gild...</td>\n",
       "      <td>http://www.amazon.co.uk/Hornby-R2672-RailRoad-...</td>\n",
       "      <td>NaN</td>\n",
       "    </tr>\n",
       "    <tr>\n",
       "      <th>...</th>\n",
       "      <td>...</td>\n",
       "      <td>...</td>\n",
       "      <td>...</td>\n",
       "      <td>...</td>\n",
       "      <td>...</td>\n",
       "      <td>...</td>\n",
       "      <td>...</td>\n",
       "      <td>...</td>\n",
       "      <td>...</td>\n",
       "      <td>...</td>\n",
       "      <td>...</td>\n",
       "      <td>...</td>\n",
       "      <td>...</td>\n",
       "      <td>...</td>\n",
       "    </tr>\n",
       "    <tr>\n",
       "      <th>9999</th>\n",
       "      <td>44d6967f083825a5de36ad4865a65bcd</td>\n",
       "      <td>Batman 1966 TV Series Action Figures - The Rid...</td>\n",
       "      <td>Mattel</td>\n",
       "      <td>£22.95</td>\n",
       "      <td>5 new</td>\n",
       "      <td>3</td>\n",
       "      <td>3</td>\n",
       "      <td>5.0 out of 5 stars</td>\n",
       "      <td>Hobbies &gt; Collectible Figures &amp; Memorabilia &gt; ...</td>\n",
       "      <td>DC 66 Batman Classic TV Series 6 Inch Riddler ...</td>\n",
       "      <td>Technical Details Item Weight136 g Product Dim...</td>\n",
       "      <td>DC 66 Batman Classic TV Series 6 Inch Riddler ...</td>\n",
       "      <td>NaN</td>\n",
       "      <td>NaN</td>\n",
       "    </tr>\n",
       "    <tr>\n",
       "      <th>10000</th>\n",
       "      <td>08f0747b6fc6687215ffb994c3a6fb32</td>\n",
       "      <td>Star Wars Costume, Kids Stormtrooper Costume S...</td>\n",
       "      <td>Star Wars</td>\n",
       "      <td>£39.99</td>\n",
       "      <td>NaN</td>\n",
       "      <td>1</td>\n",
       "      <td>3</td>\n",
       "      <td>4.0 out of 5 stars</td>\n",
       "      <td>Characters &amp; Brands &gt; Star Wars &gt; Toys</td>\n",
       "      <td>NaN</td>\n",
       "      <td>Technical Details    Additional Information AS...</td>\n",
       "      <td>NaN</td>\n",
       "      <td>http://www.amazon.co.uk/Storm-Trooper-Costume-...</td>\n",
       "      <td>NaN</td>\n",
       "    </tr>\n",
       "    <tr>\n",
       "      <th>10001</th>\n",
       "      <td>bf6cc073f8f24e6e338190fa16f6ee9d</td>\n",
       "      <td>Defiance Lawkeeper Metal Badge Prop Replica</td>\n",
       "      <td>Olde Scotland Yard Ltd.</td>\n",
       "      <td>£43.99</td>\n",
       "      <td>3 new</td>\n",
       "      <td>1</td>\n",
       "      <td>3</td>\n",
       "      <td>5.0 out of 5 stars</td>\n",
       "      <td>Novelty &amp; Special Use &gt; Novelty &gt; Accessories ...</td>\n",
       "      <td>*Includes 1x Badge with holder and chain *High...</td>\n",
       "      <td>Technical Details Item Weight159 g Product Dim...</td>\n",
       "      <td>*Includes 1x Badge with holder and chain *High...</td>\n",
       "      <td>http://www.amazon.co.uk/Olde-Scotland-Yard-Ltd...</td>\n",
       "      <td>NaN</td>\n",
       "    </tr>\n",
       "    <tr>\n",
       "      <th>10002</th>\n",
       "      <td>cd783d0b8b44e631b9788b203eaaefae</td>\n",
       "      <td>Justice League of America Series 3 Green Lante...</td>\n",
       "      <td>DC Comics</td>\n",
       "      <td>£49.81</td>\n",
       "      <td>3 new</td>\n",
       "      <td>1</td>\n",
       "      <td>3</td>\n",
       "      <td>5.0 out of 5 stars</td>\n",
       "      <td>Hobbies &gt; Collectible Figures &amp; Memorabilia &gt; ...</td>\n",
       "      <td>Designed by Ed BenesIt's here - the third seri...</td>\n",
       "      <td>Technical Details Item Weight181 g Product Dim...</td>\n",
       "      <td>Designed by Ed BenesIt's here - the third seri...</td>\n",
       "      <td>NaN</td>\n",
       "      <td>NaN</td>\n",
       "    </tr>\n",
       "    <tr>\n",
       "      <th>10003</th>\n",
       "      <td>94d18e86e504bee1e392df7e5738b18a</td>\n",
       "      <td>Star Wars 1/72 Y-Wing Starfighter</td>\n",
       "      <td>Bandai</td>\n",
       "      <td>£21.20</td>\n",
       "      <td>31 new</td>\n",
       "      <td>11</td>\n",
       "      <td>3</td>\n",
       "      <td>4.5 out of 5 stars</td>\n",
       "      <td>Characters &amp; Brands &gt; Star Wars &gt; Toys</td>\n",
       "      <td>NaN</td>\n",
       "      <td>Technical Details Item Weight299 g Product Dim...</td>\n",
       "      <td>NaN</td>\n",
       "      <td>NaN</td>\n",
       "      <td>NaN</td>\n",
       "    </tr>\n",
       "  </tbody>\n",
       "</table>\n",
       "<p>10004 rows × 14 columns</p>\n",
       "</div>"
      ],
      "text/plain": [
       "                                uniq_id  \\\n",
       "0      eac7efa5dbd3d667f26eb3d3ab504464   \n",
       "1      b17540ef7e86e461d37f3ae58b7b72ac   \n",
       "2      348f344247b0c1a935b1223072ef9d8a   \n",
       "3      e12b92dbb8eaee78b22965d2a9bbbd9f   \n",
       "4      e33a9adeed5f36840ccc227db4682a36   \n",
       "...                                 ...   \n",
       "9999   44d6967f083825a5de36ad4865a65bcd   \n",
       "10000  08f0747b6fc6687215ffb994c3a6fb32   \n",
       "10001  bf6cc073f8f24e6e338190fa16f6ee9d   \n",
       "10002  cd783d0b8b44e631b9788b203eaaefae   \n",
       "10003  94d18e86e504bee1e392df7e5738b18a   \n",
       "\n",
       "                                            product_name  \\\n",
       "0                                  Hornby 2014 Catalogue   \n",
       "1      FunkyBuys® Large Christmas Holiday Express Fes...   \n",
       "2      CLASSIC TOY TRAIN SET TRACK CARRIAGES LIGHT EN...   \n",
       "3         HORNBY Coach R4410A BR Hawksworth Corridor 3rd   \n",
       "4      Hornby 00 Gauge 0-4-0 Gildenlow Salt Co. Steam...   \n",
       "...                                                  ...   \n",
       "9999   Batman 1966 TV Series Action Figures - The Rid...   \n",
       "10000  Star Wars Costume, Kids Stormtrooper Costume S...   \n",
       "10001        Defiance Lawkeeper Metal Badge Prop Replica   \n",
       "10002  Justice League of America Series 3 Green Lante...   \n",
       "10003                  Star Wars 1/72 Y-Wing Starfighter   \n",
       "\n",
       "                  manufacturer   price number_available_in_stock  \\\n",
       "0                       Hornby   £3.42                     5 new   \n",
       "1                    FunkyBuys  £16.99                       NaN   \n",
       "2                          ccf   £9.99                     2 new   \n",
       "3                       Hornby  £39.99                       NaN   \n",
       "4                       Hornby  £32.19                       NaN   \n",
       "...                        ...     ...                       ...   \n",
       "9999                    Mattel  £22.95                     5 new   \n",
       "10000                Star Wars  £39.99                       NaN   \n",
       "10001  Olde Scotland Yard Ltd.  £43.99                     3 new   \n",
       "10002                DC Comics  £49.81                     3 new   \n",
       "10003                   Bandai  £21.20                    31 new   \n",
       "\n",
       "      number_of_reviews number_of_answered_questions average_review_rating  \\\n",
       "0                    15                            1    4.9 out of 5 stars   \n",
       "1                     2                            1    4.5 out of 5 stars   \n",
       "2                    17                            2    3.9 out of 5 stars   \n",
       "3                     1                            2    5.0 out of 5 stars   \n",
       "4                     3                            2    4.7 out of 5 stars   \n",
       "...                 ...                          ...                   ...   \n",
       "9999                  3                            3    5.0 out of 5 stars   \n",
       "10000                 1                            3    4.0 out of 5 stars   \n",
       "10001                 1                            3    5.0 out of 5 stars   \n",
       "10002                 1                            3    5.0 out of 5 stars   \n",
       "10003                11                            3    4.5 out of 5 stars   \n",
       "\n",
       "                        amazon_category_and_sub_category  \\\n",
       "0      Hobbies > Model Trains & Railway Sets > Rail V...   \n",
       "1      Hobbies > Model Trains & Railway Sets > Rail V...   \n",
       "2      Hobbies > Model Trains & Railway Sets > Rail V...   \n",
       "3      Hobbies > Model Trains & Railway Sets > Rail V...   \n",
       "4      Hobbies > Model Trains & Railway Sets > Rail V...   \n",
       "...                                                  ...   \n",
       "9999   Hobbies > Collectible Figures & Memorabilia > ...   \n",
       "10000             Characters & Brands > Star Wars > Toys   \n",
       "10001  Novelty & Special Use > Novelty > Accessories ...   \n",
       "10002  Hobbies > Collectible Figures & Memorabilia > ...   \n",
       "10003             Characters & Brands > Star Wars > Toys   \n",
       "\n",
       "                                             description  \\\n",
       "0      Product Description Hornby 2014 Catalogue Box ...   \n",
       "1      Size Name:Large FunkyBuys® Large Christmas Hol...   \n",
       "2      BIG CLASSIC TOY TRAIN SET TRACK CARRIAGE LIGHT...   \n",
       "3      Hornby 00 Gauge BR Hawksworth 3rd Class W 2107...   \n",
       "4      Product Description Hornby RailRoad 0-4-0 Gild...   \n",
       "...                                                  ...   \n",
       "9999   DC 66 Batman Classic TV Series 6 Inch Riddler ...   \n",
       "10000                                                NaN   \n",
       "10001  *Includes 1x Badge with holder and chain *High...   \n",
       "10002  Designed by Ed BenesIt's here - the third seri...   \n",
       "10003                                                NaN   \n",
       "\n",
       "                                     product_information  \\\n",
       "0      Technical Details Item Weight640 g Product Dim...   \n",
       "1      Technical Details Manufacturer recommended age...   \n",
       "2      Technical Details Manufacturer recommended age...   \n",
       "3      Technical Details Item Weight259 g Product Dim...   \n",
       "4      Technical Details Item Weight159 g Product Dim...   \n",
       "...                                                  ...   \n",
       "9999   Technical Details Item Weight136 g Product Dim...   \n",
       "10000  Technical Details    Additional Information AS...   \n",
       "10001  Technical Details Item Weight159 g Product Dim...   \n",
       "10002  Technical Details Item Weight181 g Product Dim...   \n",
       "10003  Technical Details Item Weight299 g Product Dim...   \n",
       "\n",
       "                                     product_description  \\\n",
       "0      Product Description Hornby 2014 Catalogue Box ...   \n",
       "1      Size Name:Large FunkyBuys® Large Christmas Hol...   \n",
       "2      BIG CLASSIC TOY TRAIN SET TRACK CARRIAGE LIGHT...   \n",
       "3      Hornby 00 Gauge BR Hawksworth 3rd Class W 2107...   \n",
       "4      Product Description Hornby RailRoad 0-4-0 Gild...   \n",
       "...                                                  ...   \n",
       "9999   DC 66 Batman Classic TV Series 6 Inch Riddler ...   \n",
       "10000                                                NaN   \n",
       "10001  *Includes 1x Badge with holder and chain *High...   \n",
       "10002  Designed by Ed BenesIt's here - the third seri...   \n",
       "10003                                                NaN   \n",
       "\n",
       "             items_customers_buy_after_viewing_this_item  \\\n",
       "0      http://www.amazon.co.uk/Hornby-R8150-Catalogue...   \n",
       "1      http://www.amazon.co.uk/Christmas-Holiday-Expr...   \n",
       "2      http://www.amazon.co.uk/Train-With-Tracks-Batt...   \n",
       "3                                                    NaN   \n",
       "4      http://www.amazon.co.uk/Hornby-R2672-RailRoad-...   \n",
       "...                                                  ...   \n",
       "9999                                                 NaN   \n",
       "10000  http://www.amazon.co.uk/Storm-Trooper-Costume-...   \n",
       "10001  http://www.amazon.co.uk/Olde-Scotland-Yard-Ltd...   \n",
       "10002                                                NaN   \n",
       "10003                                                NaN   \n",
       "\n",
       "                          customer_questions_and_answers  \n",
       "0      Does this catalogue detail all the previous Ho...  \n",
       "1      can you turn off sounds // hi no you cant turn...  \n",
       "2      What is the gauge of the track // Hi Paul.Trut...  \n",
       "3                                                    NaN  \n",
       "4                                                    NaN  \n",
       "...                                                  ...  \n",
       "9999                                                 NaN  \n",
       "10000                                                NaN  \n",
       "10001                                                NaN  \n",
       "10002                                                NaN  \n",
       "10003                                                NaN  \n",
       "\n",
       "[10004 rows x 14 columns]"
      ]
     },
     "execution_count": 2,
     "metadata": {},
     "output_type": "execute_result"
    }
   ],
   "source": [
    "products = pd.read_csv('Amazon_Products.csv', low_memory = False)\n",
    "products = products.iloc[:,:14]\n",
    "products"
   ]
  },
  {
   "cell_type": "markdown",
   "id": "315334d4",
   "metadata": {},
   "source": [
    "### Exploring Datatypes and Missing values for each column"
   ]
  },
  {
   "cell_type": "code",
   "execution_count": 3,
   "id": "733c2e8b",
   "metadata": {},
   "outputs": [
    {
     "name": "stdout",
     "output_type": "stream",
     "text": [
      "<class 'pandas.core.frame.DataFrame'>\n",
      "RangeIndex: 10004 entries, 0 to 10003\n",
      "Data columns (total 14 columns):\n",
      " #   Column                                       Non-Null Count  Dtype \n",
      "---  ------                                       --------------  ----- \n",
      " 0   uniq_id                                      10002 non-null  object\n",
      " 1   product_name                                 10002 non-null  object\n",
      " 2   manufacturer                                 9995 non-null   object\n",
      " 3   price                                        8567 non-null   object\n",
      " 4   number_available_in_stock                    7502 non-null   object\n",
      " 5   number_of_reviews                            9984 non-null   object\n",
      " 6   number_of_answered_questions                 9237 non-null   object\n",
      " 7   average_review_rating                        9984 non-null   object\n",
      " 8   amazon_category_and_sub_category             9312 non-null   object\n",
      " 9   description                                  9351 non-null   object\n",
      " 10  product_information                          9943 non-null   object\n",
      " 11  product_description                          9350 non-null   object\n",
      " 12  items_customers_buy_after_viewing_this_item  6936 non-null   object\n",
      " 13  customer_questions_and_answers               915 non-null    object\n",
      "dtypes: object(14)\n",
      "memory usage: 1.1+ MB\n"
     ]
    }
   ],
   "source": [
    "products.info()"
   ]
  },
  {
   "cell_type": "code",
   "execution_count": 4,
   "id": "e70c58db",
   "metadata": {},
   "outputs": [],
   "source": [
    "products['price'] = products['price'].astype(str)"
   ]
  },
  {
   "cell_type": "code",
   "execution_count": 5,
   "id": "8f892e5c",
   "metadata": {
    "scrolled": false
   },
   "outputs": [],
   "source": [
    "# for price in products['price']:\n",
    "#     print(price)\n",
    "# #     if '-' in price:\n",
    "# #         print(price.split('-')[0])\n",
    "        "
   ]
  },
  {
   "cell_type": "markdown",
   "id": "201309de",
   "metadata": {},
   "source": [
    "### Function to Clean Price Values"
   ]
  },
  {
   "cell_type": "code",
   "execution_count": 6,
   "id": "c4c65c8f",
   "metadata": {},
   "outputs": [],
   "source": [
    "def clean_price(value):\n",
    "    if '£' in value:\n",
    "        value = value.replace('£',\"\")\n",
    "        if '-' in value:\n",
    "            value = value.split('-')[0]\n",
    "        if ',' in value:\n",
    "            value = value.replace(',',\"\")\n",
    "        return float(value)\n",
    "    \n",
    "    elif value == 'nan':\n",
    "        value= value.replace('nan','0')\n",
    "        return float(value)     \n"
   ]
  },
  {
   "cell_type": "code",
   "execution_count": 7,
   "id": "adce6318",
   "metadata": {},
   "outputs": [],
   "source": [
    "products['price'] = products['price'].apply(lambda x: clean_price(x))"
   ]
  },
  {
   "cell_type": "code",
   "execution_count": 8,
   "id": "d4d7954f",
   "metadata": {},
   "outputs": [],
   "source": [
    "# products['price'] = products['price'].astype(float)"
   ]
  },
  {
   "cell_type": "code",
   "execution_count": 9,
   "id": "82e6a821",
   "metadata": {},
   "outputs": [],
   "source": [
    "# products['price'] = products['price'].replace('[\\,£]','', regex=True).astype(float)\n",
    "# products"
   ]
  },
  {
   "cell_type": "code",
   "execution_count": 10,
   "id": "e4dd2c0b",
   "metadata": {},
   "outputs": [
    {
     "name": "stdout",
     "output_type": "stream",
     "text": [
      "<class 'pandas.core.frame.DataFrame'>\n",
      "RangeIndex: 10004 entries, 0 to 10003\n",
      "Data columns (total 14 columns):\n",
      " #   Column                                       Non-Null Count  Dtype  \n",
      "---  ------                                       --------------  -----  \n",
      " 0   uniq_id                                      10002 non-null  object \n",
      " 1   product_name                                 10002 non-null  object \n",
      " 2   manufacturer                                 9995 non-null   object \n",
      " 3   price                                        10002 non-null  float64\n",
      " 4   number_available_in_stock                    7502 non-null   object \n",
      " 5   number_of_reviews                            9984 non-null   object \n",
      " 6   number_of_answered_questions                 9237 non-null   object \n",
      " 7   average_review_rating                        9984 non-null   object \n",
      " 8   amazon_category_and_sub_category             9312 non-null   object \n",
      " 9   description                                  9351 non-null   object \n",
      " 10  product_information                          9943 non-null   object \n",
      " 11  product_description                          9350 non-null   object \n",
      " 12  items_customers_buy_after_viewing_this_item  6936 non-null   object \n",
      " 13  customer_questions_and_answers               915 non-null    object \n",
      "dtypes: float64(1), object(13)\n",
      "memory usage: 1.1+ MB\n"
     ]
    }
   ],
   "source": [
    "products.info()"
   ]
  },
  {
   "cell_type": "code",
   "execution_count": 11,
   "id": "418e05fd",
   "metadata": {},
   "outputs": [
    {
     "data": {
      "text/html": [
       "<div>\n",
       "<style scoped>\n",
       "    .dataframe tbody tr th:only-of-type {\n",
       "        vertical-align: middle;\n",
       "    }\n",
       "\n",
       "    .dataframe tbody tr th {\n",
       "        vertical-align: top;\n",
       "    }\n",
       "\n",
       "    .dataframe thead th {\n",
       "        text-align: right;\n",
       "    }\n",
       "</style>\n",
       "<table border=\"1\" class=\"dataframe\">\n",
       "  <thead>\n",
       "    <tr style=\"text-align: right;\">\n",
       "      <th></th>\n",
       "      <th>uniq_id</th>\n",
       "      <th>product_name</th>\n",
       "      <th>manufacturer</th>\n",
       "      <th>price</th>\n",
       "      <th>number_available_in_stock</th>\n",
       "      <th>number_of_reviews</th>\n",
       "      <th>number_of_answered_questions</th>\n",
       "      <th>average_review_rating</th>\n",
       "      <th>amazon_category_and_sub_category</th>\n",
       "      <th>description</th>\n",
       "      <th>product_information</th>\n",
       "      <th>product_description</th>\n",
       "      <th>items_customers_buy_after_viewing_this_item</th>\n",
       "      <th>customer_questions_and_answers</th>\n",
       "    </tr>\n",
       "  </thead>\n",
       "  <tbody>\n",
       "    <tr>\n",
       "      <th>7098</th>\n",
       "      <td>75d96583894e50412ba5c0161375fef5</td>\n",
       "      <td>Bowen Designs - Marvel Statue Thor Classic Act...</td>\n",
       "      <td>Bowen Designs</td>\n",
       "      <td>2439.92</td>\n",
       "      <td>2 new</td>\n",
       "      <td>1</td>\n",
       "      <td>1</td>\n",
       "      <td>4.0 out of 5 stars</td>\n",
       "      <td>Hobbies &gt; Model Trains &amp; Railway Sets &gt; Access...</td>\n",
       "      <td>Sideshow Collectibles is proud to present the ...</td>\n",
       "      <td>Technical Details Item Weight6 Kg Product Dime...</td>\n",
       "      <td>Sideshow Collectibles is proud to present the ...</td>\n",
       "      <td>NaN</td>\n",
       "      <td>NaN</td>\n",
       "    </tr>\n",
       "    <tr>\n",
       "      <th>2232</th>\n",
       "      <td>4f705c302bdcf5d2b0c1df973d98f99f</td>\n",
       "      <td>DJI Phantom 2 with H3-3D Gimbal</td>\n",
       "      <td>DJI</td>\n",
       "      <td>995.11</td>\n",
       "      <td>2 used</td>\n",
       "      <td>4</td>\n",
       "      <td>19</td>\n",
       "      <td>5.0 out of 5 stars</td>\n",
       "      <td>Hobbies &gt; Remote Controlled Devices &gt; Helicopt...</td>\n",
       "      <td>Product Description Including the H3-3D Gimbal...</td>\n",
       "      <td>Technical Details Item Weight2.5 Kg Product Di...</td>\n",
       "      <td>Product Description Including the H3-3D Gimbal...</td>\n",
       "      <td>NaN</td>\n",
       "      <td>Does this come with the gimbal already install...</td>\n",
       "    </tr>\n",
       "    <tr>\n",
       "      <th>9180</th>\n",
       "      <td>1e897bf37e4e89aba7cc962f24913fd4</td>\n",
       "      <td>Indiana Jones - 12 Inch Action Figures: Indian...</td>\n",
       "      <td>Sideshow</td>\n",
       "      <td>719.95</td>\n",
       "      <td>2 new</td>\n",
       "      <td>1</td>\n",
       "      <td>1</td>\n",
       "      <td>5.0 out of 5 stars</td>\n",
       "      <td>Figures &amp; Playsets &gt; Science Fiction &amp; Fantasy</td>\n",
       "      <td>Figurine articulée taille env. 30 cm avec vête...</td>\n",
       "      <td>Technical Details Item Weight1.1 Kg Product Di...</td>\n",
       "      <td>Figurine articulée taille env. 30 cm avec vête...</td>\n",
       "      <td>NaN</td>\n",
       "      <td>NaN</td>\n",
       "    </tr>\n",
       "    <tr>\n",
       "      <th>7683</th>\n",
       "      <td>a33386fa5647eeff2c8d6ca990ecf4f6</td>\n",
       "      <td>Autoart 70206 - Aston Martin V12 Vantage - 201...</td>\n",
       "      <td>AUTOart</td>\n",
       "      <td>648.95</td>\n",
       "      <td>NaN</td>\n",
       "      <td>1</td>\n",
       "      <td>1</td>\n",
       "      <td>5.0 out of 5 stars</td>\n",
       "      <td>Die-Cast &amp; Toy Vehicles &gt; Toy Vehicles &amp; Acces...</td>\n",
       "      <td>AUTOART ASTON MARTIN V12 VANTAGE 2010 SILVER W...</td>\n",
       "      <td>Technical Details Item Weight50 g Product Dime...</td>\n",
       "      <td>AUTOART ASTON MARTIN V12 VANTAGE 2010 SILVER W...</td>\n",
       "      <td>http://www.amazon.co.uk/Aston-Martin-Vantage-s...</td>\n",
       "      <td>NaN</td>\n",
       "    </tr>\n",
       "    <tr>\n",
       "      <th>5667</th>\n",
       "      <td>15d8de76320e3105a3d2e482670d08b6</td>\n",
       "      <td>Weiss Schwarz Extra Booster Clannad Vol.3</td>\n",
       "      <td>Bushiroad</td>\n",
       "      <td>629.95</td>\n",
       "      <td>NaN</td>\n",
       "      <td>1</td>\n",
       "      <td>2</td>\n",
       "      <td>5.0 out of 5 stars</td>\n",
       "      <td>Hobbies &gt; Trading Cards &amp; Accessories &gt; Packs ...</td>\n",
       "      <td>Weiss Schwarz Extra Booster CLANNAD vol.03 BOX</td>\n",
       "      <td>Technical Details Item Weight104 g Product Dim...</td>\n",
       "      <td>Weiss Schwarz Extra Booster CLANNAD vol.03 BOX</td>\n",
       "      <td>NaN</td>\n",
       "      <td>NaN</td>\n",
       "    </tr>\n",
       "  </tbody>\n",
       "</table>\n",
       "</div>"
      ],
      "text/plain": [
       "                               uniq_id  \\\n",
       "7098  75d96583894e50412ba5c0161375fef5   \n",
       "2232  4f705c302bdcf5d2b0c1df973d98f99f   \n",
       "9180  1e897bf37e4e89aba7cc962f24913fd4   \n",
       "7683  a33386fa5647eeff2c8d6ca990ecf4f6   \n",
       "5667  15d8de76320e3105a3d2e482670d08b6   \n",
       "\n",
       "                                           product_name   manufacturer  \\\n",
       "7098  Bowen Designs - Marvel Statue Thor Classic Act...  Bowen Designs   \n",
       "2232                    DJI Phantom 2 with H3-3D Gimbal            DJI   \n",
       "9180  Indiana Jones - 12 Inch Action Figures: Indian...       Sideshow   \n",
       "7683  Autoart 70206 - Aston Martin V12 Vantage - 201...        AUTOart   \n",
       "5667          Weiss Schwarz Extra Booster Clannad Vol.3      Bushiroad   \n",
       "\n",
       "        price number_available_in_stock number_of_reviews  \\\n",
       "7098  2439.92                     2 new                 1   \n",
       "2232   995.11                    2 used                 4   \n",
       "9180   719.95                     2 new                 1   \n",
       "7683   648.95                       NaN                 1   \n",
       "5667   629.95                       NaN                 1   \n",
       "\n",
       "     number_of_answered_questions average_review_rating  \\\n",
       "7098                            1    4.0 out of 5 stars   \n",
       "2232                           19    5.0 out of 5 stars   \n",
       "9180                            1    5.0 out of 5 stars   \n",
       "7683                            1    5.0 out of 5 stars   \n",
       "5667                            2    5.0 out of 5 stars   \n",
       "\n",
       "                       amazon_category_and_sub_category  \\\n",
       "7098  Hobbies > Model Trains & Railway Sets > Access...   \n",
       "2232  Hobbies > Remote Controlled Devices > Helicopt...   \n",
       "9180     Figures & Playsets > Science Fiction & Fantasy   \n",
       "7683  Die-Cast & Toy Vehicles > Toy Vehicles & Acces...   \n",
       "5667  Hobbies > Trading Cards & Accessories > Packs ...   \n",
       "\n",
       "                                            description  \\\n",
       "7098  Sideshow Collectibles is proud to present the ...   \n",
       "2232  Product Description Including the H3-3D Gimbal...   \n",
       "9180  Figurine articulée taille env. 30 cm avec vête...   \n",
       "7683  AUTOART ASTON MARTIN V12 VANTAGE 2010 SILVER W...   \n",
       "5667     Weiss Schwarz Extra Booster CLANNAD vol.03 BOX   \n",
       "\n",
       "                                    product_information  \\\n",
       "7098  Technical Details Item Weight6 Kg Product Dime...   \n",
       "2232  Technical Details Item Weight2.5 Kg Product Di...   \n",
       "9180  Technical Details Item Weight1.1 Kg Product Di...   \n",
       "7683  Technical Details Item Weight50 g Product Dime...   \n",
       "5667  Technical Details Item Weight104 g Product Dim...   \n",
       "\n",
       "                                    product_description  \\\n",
       "7098  Sideshow Collectibles is proud to present the ...   \n",
       "2232  Product Description Including the H3-3D Gimbal...   \n",
       "9180  Figurine articulée taille env. 30 cm avec vête...   \n",
       "7683  AUTOART ASTON MARTIN V12 VANTAGE 2010 SILVER W...   \n",
       "5667     Weiss Schwarz Extra Booster CLANNAD vol.03 BOX   \n",
       "\n",
       "            items_customers_buy_after_viewing_this_item  \\\n",
       "7098                                                NaN   \n",
       "2232                                                NaN   \n",
       "9180                                                NaN   \n",
       "7683  http://www.amazon.co.uk/Aston-Martin-Vantage-s...   \n",
       "5667                                                NaN   \n",
       "\n",
       "                         customer_questions_and_answers  \n",
       "7098                                                NaN  \n",
       "2232  Does this come with the gimbal already install...  \n",
       "9180                                                NaN  \n",
       "7683                                                NaN  \n",
       "5667                                                NaN  "
      ]
     },
     "execution_count": 11,
     "metadata": {},
     "output_type": "execute_result"
    }
   ],
   "source": [
    "top5 = products.nlargest(n=5, columns=['price'])\n",
    "top5"
   ]
  },
  {
   "cell_type": "code",
   "execution_count": 12,
   "id": "2a6a791d",
   "metadata": {
    "scrolled": false
   },
   "outputs": [],
   "source": [
    "# @ipywidgets.interact(Top_N = [5,10,15])\n",
    "# def get_costliest_products(Top_N):\n",
    "#     topn = products.nlargest(n= Top_N, columns=['price'])  \n",
    "\n",
    "#     plt.figure(figsize=(10,8))\n",
    "\n",
    "#     plt.bar(topn['product_name'], topn['price'], align='center', alpha=0.5)\n",
    "#     #plt.ylim([0,0])\n",
    "#     plt.ylabel('Price')\n",
    "#     plt.xticks(rotation=90)\n",
    "#     plt.title('Top ' + str(Top_N) + ' costliest products on Amazon')\n",
    "#     plt.show()"
   ]
  },
  {
   "cell_type": "markdown",
   "id": "594c0501",
   "metadata": {},
   "source": [
    "### Visualization #1"
   ]
  },
  {
   "cell_type": "code",
   "execution_count": 13,
   "id": "dfb2bfe4",
   "metadata": {},
   "outputs": [],
   "source": [
    "def get_costliest_products(Top_N):\n",
    "    topn = products.nlargest(n= Top_N, columns=['price'])  \n",
    "\n",
    "    plt.figure(figsize=(10,8))\n",
    "\n",
    "    plt.bar(topn['product_name'], topn['price'], align='center', alpha=0.5)\n",
    "    #plt.ylim([0,0])\n",
    "    plt.ylabel('Price')\n",
    "    plt.xticks(rotation=90)\n",
    "    plt.title('Top ' + str(Top_N) + ' costliest products on Amazon')\n",
    "    plt.show()"
   ]
  },
  {
   "cell_type": "code",
   "execution_count": 14,
   "id": "1b411dd3",
   "metadata": {},
   "outputs": [
    {
     "data": {
      "application/vnd.jupyter.widget-view+json": {
       "model_id": "88c36b7dff204e0489f12afa7f7d2018",
       "version_major": 2,
       "version_minor": 0
      },
      "text/plain": [
       "Dropdown(options=(5, 10, 15), value=5)"
      ]
     },
     "metadata": {},
     "output_type": "display_data"
    }
   ],
   "source": [
    "topn_drop = ipywidgets.Dropdown(options= [5,10,15], value = 5)\n",
    "topn_drop"
   ]
  },
  {
   "cell_type": "code",
   "execution_count": 15,
   "id": "eecc0593",
   "metadata": {},
   "outputs": [
    {
     "data": {
      "application/vnd.jupyter.widget-view+json": {
       "model_id": "640dd371ed8d478fa037cb0392fbcd09",
       "version_major": 2,
       "version_minor": 0
      },
      "text/plain": [
       "Output()"
      ]
     },
     "metadata": {},
     "output_type": "display_data"
    }
   ],
   "source": [
    "out = ipywidgets.interactive_output(get_costliest_products, {'Top_N': topn_drop})\n",
    "out"
   ]
  },
  {
   "cell_type": "code",
   "execution_count": 16,
   "id": "cb254786",
   "metadata": {},
   "outputs": [],
   "source": [
    "mySelectedLabel = ipywidgets.Label(\"Select Top N Products\")"
   ]
  },
  {
   "cell_type": "code",
   "execution_count": 17,
   "id": "24025876",
   "metadata": {},
   "outputs": [
    {
     "data": {
      "application/vnd.jupyter.widget-view+json": {
       "model_id": "45fa25955f3c46cfbf02e03f636c7e60",
       "version_major": 2,
       "version_minor": 0
      },
      "text/plain": [
       "VBox(children=(Label(value='Select Top N Products'), HBox(children=(Dropdown(options=(5, 10, 15), value=5),)),…"
      ]
     },
     "metadata": {},
     "output_type": "display_data"
    }
   ],
   "source": [
    "ipywidgets.VBox([mySelectedLabel, ipywidgets.HBox([topn_drop]), out])"
   ]
  },
  {
   "cell_type": "markdown",
   "id": "836c1390",
   "metadata": {},
   "source": [
    "### Visualization #2"
   ]
  },
  {
   "cell_type": "code",
   "execution_count": 18,
   "id": "f7339fad",
   "metadata": {},
   "outputs": [],
   "source": [
    "products['average_review_rating'] = products['average_review_rating'].astype(str)"
   ]
  },
  {
   "cell_type": "code",
   "execution_count": 19,
   "id": "4abe801f",
   "metadata": {},
   "outputs": [],
   "source": [
    "def clean_rating(value):\n",
    "    if 'out' in value:\n",
    "        value = value.split('out')[0]\n",
    "        return float(value)\n",
    "    \n",
    "    elif value == 'nan':\n",
    "        value= value.replace('nan','0')\n",
    "        return float(value)"
   ]
  },
  {
   "cell_type": "code",
   "execution_count": 20,
   "id": "8721d767",
   "metadata": {},
   "outputs": [],
   "source": [
    "products['average_review_rating'] = products['average_review_rating'].apply(lambda x: clean_rating(x))"
   ]
  },
  {
   "cell_type": "code",
   "execution_count": 21,
   "id": "a5da6b97",
   "metadata": {},
   "outputs": [
    {
     "data": {
      "text/plain": [
       "5.0    5140\n",
       "4.0    1312\n",
       "4.5     718\n",
       "4.8     567\n",
       "4.7     528\n",
       "4.3     407\n",
       "4.6     392\n",
       "4.4     298\n",
       "4.9     237\n",
       "4.2     217\n",
       "4.1     145\n",
       "0.0      20\n",
       "3.9       7\n",
       "3.0       3\n",
       "3.6       3\n",
       "3.5       2\n",
       "3.3       2\n",
       "3.7       2\n",
       "3.8       1\n",
       "2.3       1\n",
       "Name: average_review_rating, dtype: int64"
      ]
     },
     "execution_count": 21,
     "metadata": {},
     "output_type": "execute_result"
    }
   ],
   "source": [
    "products['average_review_rating'].value_counts()"
   ]
  },
  {
   "cell_type": "code",
   "execution_count": 22,
   "id": "dd9cd369",
   "metadata": {},
   "outputs": [],
   "source": [
    "# @ipywidgets.interact(manufacturer = products['manufacturer'].unique())\n",
    "# def get_review_counts(manufacturer):\n",
    "    \n",
    "#     manufacturer_subset = products.loc[products['manufacturer'] == manufacturer]\n",
    "\n",
    "#     plt.figure(figsize=(10,8))\n",
    "\n",
    "#     plt.hist(manufacturer_subset['average_review_rating'])\n",
    "#     #plt.ylim([0,0])\n",
    "#     plt.ylabel('Count')\n",
    "#     #plt.xticks(rotation=90)\n",
    "#     #plt.title('Top ' + str(Top_N) + ' costliest products on Amazon')\n",
    "#     plt.show()\n"
   ]
  },
  {
   "cell_type": "code",
   "execution_count": 23,
   "id": "3e3a552f",
   "metadata": {},
   "outputs": [],
   "source": [
    "def get_review_counts(manufacturer):\n",
    "    \n",
    "    manufacturer_subset = products.loc[products['manufacturer'] == manufacturer]\n",
    "\n",
    "    plt.figure(figsize=(10,8))\n",
    "\n",
    "    plt.hist(manufacturer_subset['average_review_rating'])\n",
    "    #plt.ylim([0,0])\n",
    "    plt.ylabel('Count')\n",
    "    #plt.xticks(rotation=90)\n",
    "    #plt.title('Top ' + str(Top_N) + ' costliest products on Amazon')\n",
    "    plt.show()"
   ]
  },
  {
   "cell_type": "code",
   "execution_count": 24,
   "id": "4683640e",
   "metadata": {},
   "outputs": [
    {
     "data": {
      "application/vnd.jupyter.widget-view+json": {
       "model_id": "e2dd2c5f3a4e4f3f8d2695f7cfc82ab0",
       "version_major": 2,
       "version_minor": 0
      },
      "text/plain": [
       "Dropdown(options=('Hornby', 'FunkyBuys', 'ccf', 'Generic', 'Chuggington', 'Kato (USA)', 'Bachmann', 'Kato', 'P…"
      ]
     },
     "metadata": {},
     "output_type": "display_data"
    }
   ],
   "source": [
    "manu_drop = ipywidgets.Dropdown(options= products['manufacturer'].unique(), value = 'Hornby')\n",
    "manu_drop"
   ]
  },
  {
   "cell_type": "code",
   "execution_count": 25,
   "id": "8635cbee",
   "metadata": {},
   "outputs": [
    {
     "data": {
      "application/vnd.jupyter.widget-view+json": {
       "model_id": "45ea84e04ef74c16b5a1fa9b47a982d0",
       "version_major": 2,
       "version_minor": 0
      },
      "text/plain": [
       "Output()"
      ]
     },
     "metadata": {},
     "output_type": "display_data"
    }
   ],
   "source": [
    "out2 = ipywidgets.interactive_output(get_review_counts, {'manufacturer': manu_drop})\n",
    "out2"
   ]
  },
  {
   "cell_type": "code",
   "execution_count": 26,
   "id": "256a1f37",
   "metadata": {},
   "outputs": [],
   "source": [
    "mySelectedLabel1 = ipywidgets.Label(\"Select Top N Products\")"
   ]
  },
  {
   "cell_type": "code",
   "execution_count": 27,
   "id": "36d8835e",
   "metadata": {},
   "outputs": [
    {
     "data": {
      "application/vnd.jupyter.widget-view+json": {
       "model_id": "65ac0477070842a3af716eb046bc9cfd",
       "version_major": 2,
       "version_minor": 0
      },
      "text/plain": [
       "VBox(children=(Label(value='Select Top N Products'), HBox(children=(Dropdown(options=(5, 10, 15), value=5),)),…"
      ]
     },
     "metadata": {},
     "output_type": "display_data"
    }
   ],
   "source": [
    "comp1 = ipywidgets.VBox([mySelectedLabel1, ipywidgets.HBox([topn_drop]), out])\n",
    "comp1"
   ]
  },
  {
   "cell_type": "code",
   "execution_count": 28,
   "id": "b0967466",
   "metadata": {},
   "outputs": [],
   "source": [
    "mySelectedLabel2 = ipywidgets.Label(\"Review Counts Per Manufacturer\")"
   ]
  },
  {
   "cell_type": "code",
   "execution_count": 29,
   "id": "1deb076f",
   "metadata": {},
   "outputs": [
    {
     "data": {
      "application/vnd.jupyter.widget-view+json": {
       "model_id": "4f033b281f974c0b9b9bddfb75046c95",
       "version_major": 2,
       "version_minor": 0
      },
      "text/plain": [
       "VBox(children=(Label(value='Review Counts Per Manufacturer'), HBox(children=(Dropdown(options=('Hornby', 'Funk…"
      ]
     },
     "metadata": {},
     "output_type": "display_data"
    }
   ],
   "source": [
    "comp2 = ipywidgets.VBox([mySelectedLabel2, ipywidgets.HBox([manu_drop]), out2])\n",
    "comp2"
   ]
  },
  {
   "cell_type": "code",
   "execution_count": 30,
   "id": "6bb43d4c",
   "metadata": {},
   "outputs": [],
   "source": [
    "mySelectedLabel3 = ipywidgets.Label(\"AMAZON PRODUCTS DASHBOARD\")"
   ]
  },
  {
   "cell_type": "code",
   "execution_count": 31,
   "id": "8f32e91b",
   "metadata": {},
   "outputs": [
    {
     "data": {
      "application/vnd.jupyter.widget-view+json": {
       "model_id": "8f66d32e7c704e48a4941659867c22b0",
       "version_major": 2,
       "version_minor": 0
      },
      "text/plain": [
       "VBox(children=(Label(value='AMAZON PRODUCTS DASHBOARD'), HBox(children=(VBox(children=(Label(value='Select Top…"
      ]
     },
     "metadata": {},
     "output_type": "display_data"
    }
   ],
   "source": [
    "dashboard = ipywidgets.VBox([mySelectedLabel3, ipywidgets.HBox([comp1, comp2])])\n",
    "dashboard"
   ]
  },
  {
   "cell_type": "code",
   "execution_count": 51,
   "id": "7f17618c",
   "metadata": {},
   "outputs": [],
   "source": [
    "# VC= products['amazon_category_and_sub_category'].value_counts()\n",
    "# VC1 = VC.to_frame()\n",
    "# # VC1=VC.unique()\n",
    "# VC1 = VC1.reset_index()\n",
    "# VC1 = VC1.rename(columns = {'index': 'Categories', 'amazon_category_and_sub_category': 'Count'})\n",
    "# VC1\n"
   ]
  },
  {
   "cell_type": "markdown",
   "id": "9fb0646d",
   "metadata": {},
   "source": [
    "## Visualization 3"
   ]
  },
  {
   "cell_type": "code",
   "execution_count": 48,
   "id": "bd70b34b",
   "metadata": {},
   "outputs": [],
   "source": [
    "def get_category_counts(manufacturer):\n",
    "    \n",
    "    manufacturer_subset = products.loc[products['manufacturer'] == manufacturer]\n",
    "    v1 = manufacturer_subset['amazon_category_and_sub_category'].value_counts()\n",
    "    v1 = pd.DataFrame(v1)\n",
    "    \n",
    "    #topn = manufacturer_subset.nlargest(n= 5, columns= ['amazon_category_and_sub_category'] )  \n",
    "\n",
    "    plt.figure(figsize=(10,8))\n",
    "    \n",
    "    y= v1.amazon_category_and_sub_category\n",
    "    \n",
    "    mylabels = v1.index\n",
    "\n",
    "   # plt.pie(manufacturer_subset['amazon_category_and_sub_category'])\n",
    "    \n",
    "    plt.pie(y, labels = mylabels, autopct = '%.0f%%')\n",
    "    #plt.ylim([0,0])\n",
    "    #plt.xticks(rotation=90)\n",
    "    #plt.title('Top ' + str(Top_N) + ' costliest products on Amazon')\n",
    "    plt.show()"
   ]
  },
  {
   "cell_type": "code",
   "execution_count": 49,
   "id": "e07d0199",
   "metadata": {},
   "outputs": [
    {
     "data": {
      "application/vnd.jupyter.widget-view+json": {
       "model_id": "a8770314aa0b4a37af96d0efd30caa87",
       "version_major": 2,
       "version_minor": 0
      },
      "text/plain": [
       "Output()"
      ]
     },
     "metadata": {},
     "output_type": "display_data"
    }
   ],
   "source": [
    "out3 = ipywidgets.interactive_output(get_category_counts, {'manufacturer': manu_drop})\n",
    "# out3.clear_output()\n",
    "out3"
   ]
  },
  {
   "cell_type": "code",
   "execution_count": 44,
   "id": "390cbc62",
   "metadata": {},
   "outputs": [],
   "source": [
    "mySelectedLabel2 = ipywidgets.Label(\"Select Top 5 Products sold by a Manufacturer\")"
   ]
  },
  {
   "cell_type": "code",
   "execution_count": 50,
   "id": "895913dd",
   "metadata": {},
   "outputs": [
    {
     "data": {
      "application/vnd.jupyter.widget-view+json": {
       "model_id": "79f30998f6bd4b6895fef600c04396f3",
       "version_major": 2,
       "version_minor": 0
      },
      "text/plain": [
       "VBox(children=(Label(value='Select Top 5 Products sold by a Manufacturer'), HBox(children=(Dropdown(options=('…"
      ]
     },
     "metadata": {},
     "output_type": "display_data"
    }
   ],
   "source": [
    "comp3 = ipywidgets.VBox([mySelectedLabel2, ipywidgets.HBox([manu_drop]), out3])\n",
    "comp3"
   ]
  },
  {
   "cell_type": "code",
   "execution_count": 53,
   "id": "b51261ac",
   "metadata": {},
   "outputs": [
    {
     "data": {
      "application/vnd.jupyter.widget-view+json": {
       "model_id": "0ab6e93fbedb4213a4def3f3d9116a10",
       "version_major": 2,
       "version_minor": 0
      },
      "text/plain": [
       "VBox(children=(VBox(children=(Label(value='AMAZON PRODUCTS DASHBOARD'), HBox(children=(VBox(children=(Label(va…"
      ]
     },
     "metadata": {},
     "output_type": "display_data"
    }
   ],
   "source": [
    "dashboard = ipywidgets.VBox([mySelectedLabel3, ipywidgets.HBox([comp1, comp2])])\n",
    "dashboard = ipywidgets.VBox([dashboard,comp3])\n",
    "dashboard"
   ]
  },
  {
   "cell_type": "markdown",
   "id": "5efa9fe3",
   "metadata": {},
   "source": [
    "# Contextual Visualization # 1"
   ]
  },
  {
   "attachments": {
    "price-chopper-vs-Walmart.jpg": {
     "image/jpeg": "[encoded data removed]"
    }
   },
   "cell_type": "markdown",
   "id": "81c49f74",
   "metadata": {},
   "source": [
    "![price-chopper-vs-Walmart.jpg](attachment:price-chopper-vs-Walmart.jpg)"
   ]
  },
  {
   "cell_type": "markdown",
   "id": "c2e925b2",
   "metadata": {},
   "source": [
    "# Contextual Visualization # 2"
   ]
  },
  {
   "attachments": {
    "eMarketer-Top-10-E-Commerce-Retailers-in-the-US-in-2020-Mar2020.png": {
     "image/png": "[encoded data removed]"
    }
   },
   "cell_type": "markdown",
   "id": "9545e790",
   "metadata": {},
   "source": [
    "![eMarketer-Top-10-E-Commerce-Retailers-in-the-US-in-2020-Mar2020.png](attachment:eMarketer-Top-10-E-Commerce-Retailers-in-the-US-in-2020-Mar2020.png)"
   ]
  },
  {
   "cell_type": "markdown",
   "id": "33ee2739",
   "metadata": {},
   "source": [
    "# Writeup - Part 1:\n",
    "\n",
    "Things that did and did not work : <br>\n",
    "\n",
    "1) The dataset is not \"clean\" and requires some preprocessing to it. While loading the dataset as is, there were about 900 columns which mostly consist of NaN values. Only the first 14 columns are significant and relevant to us. <br>\n",
    "\n",
    "2) When we do the info() method for the dataframe, we see the columns with null values and the datatype of the columns. Most columns are mixed datatypes and will require further processing. <br>\n",
    "\n",
    "3) I wanted to do an initial visualization to check the costliest items in this dataset. Though I was able to create this visualization, I noticed that the price values are in string format and hence this initial visualization is not accurate as it stands. <br>\n",
    "\n",
    "4) In further parts of the project, I shall create preprocessing functions which shall clean the data appropriately and create accurate visualizations. <br>"
   ]
  },
  {
   "cell_type": "markdown",
   "id": "3d79bbef",
   "metadata": {},
   "source": [
    "# Writeup - Part 2:\n",
    "\n",
    "<b>Dashboard usage: </b><br>\n",
    "\n",
    "I have used matplotlib to generate my visualizations and ipywidgets to add interactivity and combine them together as a dashboard. <br>\n",
    "<br>\n",
    "My first visualization is a bar chart which gives us insights into the costliest products in this dataset.<br>\n",
    "We can select from Top 5, 10, 15 costliest products from the drop down<br>\n",
    "<br>\n",
    "My second visualization is a histogram which allows us to see the distribution of Product Ratings of each Manufacturer.<br>\n",
    "We can select a Manufacturer from the drop down<br>\n",
    "<br>\n",
    "<br>\n",
    "<b>Contextual Datasets Identified:</b><br>\n",
    "1) Walmart Products: <br>\n",
    "https://data.world/promptcloud/walmart-product-listing-2020 <br>\n",
    "This is a dataset from Walmart containing various products and their information. We can use this to compare various prices for products between walmart and amazon<br>\n",
    "<br>\n",
    "2) Additional Amazon Products: <br>\n",
    "https://data.world/promptcloud/amazon-product-dataset-2020 <br>\n",
    "This is another datset of Amazon products from USA which will give us insights of price difference in different regions<br>\n",
    "\n",
    "        "
   ]
  },
  {
   "cell_type": "code",
   "execution_count": 54,
   "id": "6172cbaa",
   "metadata": {},
   "outputs": [
    {
     "data": {
      "text/html": [
       "<script>\n",
       "    // AUTORUN ALL CELLS ON NOTEBOOK-LOAD!\n",
       "    require(\n",
       "        ['base/js/namespace', 'jquery'], \n",
       "        function(jupyter, $) {\n",
       "            $(jupyter.events).on(\"kernel_ready.Kernel\", function () {\n",
       "                console.log(\"Auto-running all cells-below...\");\n",
       "                jupyter.actions.call('jupyter-notebook:run-all-cells-below');\n",
       "                jupyter.actions.call('jupyter-notebook:save-notebook');\n",
       "            });\n",
       "        }\n",
       "    );\n",
       "</script>\n"
      ],
      "text/plain": [
       "<IPython.core.display.HTML object>"
      ]
     },
     "metadata": {},
     "output_type": "display_data"
    }
   ],
   "source": [
    "%%html\n",
    "<script>\n",
    "    // AUTORUN ALL CELLS ON NOTEBOOK-LOAD!\n",
    "    require(\n",
    "        ['base/js/namespace', 'jquery'], \n",
    "        function(jupyter, $) {\n",
    "            $(jupyter.events).on(\"kernel_ready.Kernel\", function () {\n",
    "                console.log(\"Auto-running all cells-below...\");\n",
    "                jupyter.actions.call('jupyter-notebook:run-all-cells-below');\n",
    "                jupyter.actions.call('jupyter-notebook:save-notebook');\n",
    "            });\n",
    "        }\n",
    "    );\n",
    "</script>"
   ]
  },
  {
   "cell_type": "code",
   "execution_count": null,
   "id": "2632d489",
   "metadata": {},
   "outputs": [],
   "source": []
  }
 ],
 "metadata": {
  "kernelspec": {
   "display_name": "Python 3 (ipykernel)",
   "language": "python",
   "name": "python3"
  },
  "language_info": {
   "codemirror_mode": {
    "name": "ipython",
    "version": 3
   },
   "file_extension": ".py",
   "mimetype": "text/x-python",
   "name": "python",
   "nbconvert_exporter": "python",
   "pygments_lexer": "ipython3",
   "version": "3.7.10"
  }
 },
 "nbformat": 4,
 "nbformat_minor": 5
}
